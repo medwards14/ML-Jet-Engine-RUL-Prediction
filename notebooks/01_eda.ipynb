# Jupyter notebook for Exploratory Data Analysis of C-MAPSS dataset

import pandas as pd
import numpy as np
import matplotlib.pyplot as plt
import seaborn as sns
from pathlib import Path

# defining paths and column names
DATA_DIR = Path("../data")
train_file = DATA_DIR / "train_FD001.txt"

col_names = [
    'engine_id',
    'time_cycle',
    'op_setting_1',
    'op_setting_2',
    'op_setting_3'
] + [f'sensor_{i}' for i in range(1, 22)]

# loading data
train_df = pd.read_csv(train_file, sep=' ', header=None, names=col_names)
print("Training DataFrame shape:", train_df.shape)

# basic inspection
display(train_df.head())
train_df.info()
display(train_df.describe())

# check for missing values
missing_vals = train_df.isna().sum()
print("Missing values:\n", missing_vals)

# correlation heatmap among sensors
sensor_cols = [f'sensor_{i}' for i in range(1, 22)]
plt.figure(figsize=(10, 8))
sns.heatmap(train_df[sensor_cols].corr(), cmap='viridis')
plt.title("Correlation Heatmap of Sensor Readings")
plt.show()

# example time-series plot for a single engine
engine_1 = train_df[train_df['engine_id'] == 1]
plt.figure()
plt.plot(engine_1['time_cycle'], engine_1['sensor_2'], marker='o')
plt.title('Sensor_2 Trend over Time for Engine 1')
plt.xlabel('Cycle')
plt.ylabel('Sensor_2')
plt.show()
