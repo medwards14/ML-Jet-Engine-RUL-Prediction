# Jupyter notebook that shows a typical pipeline:
#   - compute RUL labels
#   - drop constant or near-constant sensors
#   - scale sensor data
#   - add rolling features
#   - create sequences for neural network

import pandas as pd
from pathlib import Path

# import local modules
from src.feature_engineering import (
    generate_rul_labels,
    drop_constant_sensors,
    scale_sensors,
    add_rolling_features
)
from src.dataset_utils import create_sequences

# loading data
DATA_DIR = Path("../data")
col_names = [
    'engine_id',
    'time_cycle',
    'op_setting_1',
    'op_setting_2',
    'op_setting_3'
] + [f'sensor_{i}' for i in range(1, 22)]

train_file = DATA_DIR / "train_FD001.txt"
test_file  = DATA_DIR / "test_FD001.txt"

train_df = pd.read_csv(train_file, sep=' ', header=None, names=col_names)
test_df  = pd.read_csv(test_file,  sep=' ', header=None, names=col_names)

# generating RUL labels for training
train_df = generate_rul_labels(train_df)
print("After generating RUL labels:\n", train_df.head())

# dropping constant sensors
sensor_cols = [f'sensor_{i}' for i in range(1, 22)]
non_const_sensors = drop_constant_sensors(train_df, sensor_cols)
print("Non-constant sensors:\n", non_const_sensors)

# retaining only these sensor columns, plus needed columns
train_df = train_df[['engine_id','time_cycle','op_setting_1','op_setting_2','op_setting_3'] 
                    + non_const_sensors + ['RUL']]
test_df = test_df[['engine_id','time_cycle','op_setting_1','op_setting_2','op_setting_3']
                  + non_const_sensors]

# scaling sensor data
scaler, train_df, test_df = scale_sensors(train_df, test_df, non_const_sensors)

# adding rolling features
train_df = add_rolling_features(train_df, non_const_sensors, window=3)
test_df = add_rolling_features(test_df, non_const_sensors, window=3)

# updating the sensor columns
updated_sensor_cols = non_const_sensors + [f'{col}_rollmean3' for col in non_const_sensors]

# creating sequences
train_df = train_df.sort_values(['engine_id','time_cycle'])
X_train, y_train = create_sequences(train_df, updated_sensor_cols, seq_length=30, is_train=True)

print("X_train shape:", X_train.shape)  # (num_samples, seq_length, num_features)
print("y_train shape:", y_train.shape)

